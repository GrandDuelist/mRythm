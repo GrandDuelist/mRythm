{
 "cells": [
  {
   "cell_type": "code",
   "execution_count": 1,
   "metadata": {},
   "outputs": [],
   "source": [
    "import os\n",
    "import json\n",
    "import pandas as pd\n",
    "#year_data_delay = pd.read_csv(\"result/0-traveltime/0-year-average-delay.csv\")\n",
    "data = pd.read_csv(r\"../6-Travel-Time-Taxi/result/1-traveltime-years/0-year-average-delay.csv\")\n",
    "#%% plot impact on taxisf\n",
    "taxi_year_delay = data[(data[\"Average Delay\"]>=0) & (data[\"Average Delay\"] <= 5)]\n",
    "#taxi_year_delay_all = taxi_year_delay\n",
    "\n",
    "data = None"
   ]
  },
  {
   "cell_type": "code",
   "execution_count": null,
   "metadata": {},
   "outputs": [],
   "source": [
    "data = pd.read_csv(\"../5-Travel-Time-Subway/result/1-traveltime-years/0-year-average-delay.csv\")\n",
    "subway_year_delay = data[(data[\"Average Delay\"]>=0) & (data[\"Average Delay\"] <= 2)]"
   ]
  },
  {
   "cell_type": "code",
   "execution_count": null,
   "metadata": {},
   "outputs": [],
   "source": [
    "def generateMap(start_i,end_i,start_j,end_j):\n",
    "    mm = {}\n",
    "    for ii in xrange(start_i,end_i):\n",
    "        for jj in xrange(start_j,end_j):\n",
    "            mm[\"{ii}-{jj}\".format(ii=ii,jj=jj)] = True\n",
    "    return(mm)\n",
    "def betweenRegions(orig,dest,list_map,total_map):\n",
    "    for mm in list_map:\n",
    "        is_orig = mm.get(orig,False)\n",
    "        is_dest = (not mm.get(dest,False)) and total_map.get(dest,False)\n",
    "        t = is_orig and is_dest\n",
    "        if t: break\n",
    "    return(t)"
   ]
  },
  {
   "cell_type": "code",
   "execution_count": null,
   "metadata": {},
   "outputs": [],
   "source": [
    "params = [(0,5,26,31),(2,7,19,24),(5,10,10,15),(6,11,3,8)]\n",
    "regions = []; total = {}\n",
    "for param in params:\n",
    "    r = generateMap(*param)\n",
    "    regions.append(r)\n",
    "    total.update(r)"
   ]
  },
  {
   "cell_type": "code",
   "execution_count": null,
   "metadata": {},
   "outputs": [],
   "source": [
    "new_stations = taxi_year_delay[taxi_year_delay.apply(lambda x: betweenRegions(x['Origin'],x['Destination'],regions,total),axis=1)]\n",
    "old_stations = taxi_year_delay[taxi_year_delay.apply(lambda x: not betweenRegions(x['Origin'],x['Destination'],regions,total),axis=1)]\n",
    "strategy = \"between\""
   ]
  },
  {
   "cell_type": "code",
   "execution_count": null,
   "metadata": {},
   "outputs": [],
   "source": [
    "data = new_stations \n",
    "plot_name=\"new_station_{strategy}_subway.pdf\".format(strategy=strategy)"
   ]
  },
  {
   "cell_type": "code",
   "execution_count": null,
   "metadata": {},
   "outputs": [],
   "source": [
    "data = old_stations\n",
    "plot_name = \"old_stations_{strategy}_subway.pdf\".format(strategy=strategy)"
   ]
  },
  {
   "cell_type": "code",
   "execution_count": null,
   "metadata": {},
   "outputs": [],
   "source": [
    "data = year_average_delay\n",
    "plot_name =\"all_stations_{strategy}_subway.pdf\".format(strategy=strategy)"
   ]
  },
  {
   "cell_type": "code",
   "execution_count": null,
   "metadata": {},
   "outputs": [],
   "source": [
    "from matplotlib.ticker import FuncFormatter\n",
    "import matplotlib.pyplot as plt\n",
    "import numpy as np\n",
    "group_year_by_hour = data.groupby([\"Year\",\"Time\"])['Average Delay'].mean()\n",
    "#group_year_by_hour.rename(columns={'Average Delay': 'Hour Average'},inplace=True)\n",
    "group_year_by_hour_plot = group_year_by_hour.unstack(level=0).reset_index()\n",
    "ax = group_year_by_hour_plot.plot(kind=\"line\",fontsize =20,style=[\"bs-\",\"rd:\",\"go-\",\"^-.\",\">--\",\"rs-\"], x=\"Time\",grid=True,markeredgecolor=\"black\",ms=13)\n",
    "ax.set_ylabel(\"Delay Ratio\",fontsize=20)\n",
    "ax.legend(loc=0,fontsize=13)#,labels=[\"Light Rain\",\"No Rain\",\"Heavy Rain\"])\n",
    "ax.set_xlabel(\"Time of Day\",fontsize=20)\n",
    "plt.xticks(fontsize=15)\n",
    "#ax.set_ylim((0,0.80))\n",
    "ax.set_xlim(6,23)\n",
    "plt.legend(bbox_to_anchor=(0., 1.02, 1., .102), loc=3,\n",
    "       ncol=2, mode=\"expand\",fontsize=13 ,borderaxespad=0.)\n",
    "plt.gca().yaxis.set_major_formatter(FuncFormatter(lambda y, _: '{:.0%}'.format(y)))\n",
    "#plt.legend(loc=0,fontsize=15,mode='expand',borderaxespad=0,ncol=3,bbox_to_anchor=(0,1.14,1,.106))\n",
    "plt.savefig(\"plots/lines/{file_name}_taxi_on_taxi\".format(file_name=plot_name), bbox_inches='tight')"
   ]
  },
  {
   "cell_type": "code",
   "execution_count": null,
   "metadata": {},
   "outputs": [],
   "source": [
    "stations_plot_data = data[['Year',\"Average Delay\"]]\n",
    "stations_plot = stations_plot_data.pivot( columns='Year',values=\"Average Delay\")\n",
    "ax = stations_plot.plot(kind='box',fontsize=20,showfliers=False)\n",
    "plt.xticks(fontsize=20)\n",
    "ax.set_ylabel(\"Delay Ratio\",fontsize=20)\n",
    "plt.xticks(fontsize=15)\n",
    "plt.gca().yaxis.set_major_formatter(FuncFormatter(lambda y, _: '{:.0%}'.format(y)))\n",
    "#ax.set_ylim((0,1))\n",
    "#plt.legend(loc=0,fontsize=15,mode='expand',borderaxespad=0,ncol=3,bbox_to_anchor=(0,1.14,1,.106))\n",
    "plt.savefig(\"plots/box/{file_name}_taxi_on_taxi\".format(file_name=plot_name), bbox_inches='tight')"
   ]
  },
  {
   "cell_type": "code",
   "execution_count": null,
   "metadata": {},
   "outputs": [],
   "source": [
    "import matplotlib.ticker as mticker\n",
    "import pandas as pd\n",
    "csv_file_name = \"taxi-on-taxi-new-high-way-mean.csv\"\n",
    "mean_count = pd.read_csv(\"data/cross/{csv_file_name}\".format(csv_file_name=csv_file_name))\n",
    "mean_count.set_index(\"Year\")\n",
    "ax = mean_count['New Station Covered Areas'].plot(style='bs-',markeredgecolor=\"black\",ms=13,label=\"New High Way Covered Areas\")\n",
    "ax1 = ax.twinx()\n",
    "ax.set_ylabel(\"New Station Covered Areas\",fontsize=15)\n",
    "ax.tick_params(labelsize =15)\n",
    "ax1 = mean_count['Other Areas'].plot(ax=ax1,secondary_y=True,style='rd:',markeredgecolor=\"black\",ms=13)\n",
    "ax.get_yaxis().set_major_formatter(FuncFormatter(lambda y, _: '{:.0%}'.format(y)))\n",
    "ax1.tick_params(labelsize =15)\n",
    "ax1.set_ylabel(\"Other Areas\",fontsize=15)\n",
    "ax1.get_yaxis().set_major_formatter(FuncFormatter(lambda y, _: '{:.0%}'.format(y)))\n",
    "ax.set_xlabel(\"Year\",fontsize=20)\n",
    "lines, labels = ax.get_legend_handles_labels()\n",
    "lines2, labels2 = ax1.get_legend_handles_labels()\n",
    "ax.legend(lines + lines2, labels + labels2, loc=4,fontsize=13)\n",
    "ax.xaxis.set_major_locator(mticker.FixedLocator(np.arange(len(mean_count))))\n",
    "ax.xaxis.set_major_formatter(mticker.FixedFormatter(mean_count.index))\n",
    "ax.set_xlim(np.array([-0.2, 0.2])+ax.get_xlim())\n",
    "ax.set_ylim(np.array([-0.05, 0.05])+ax.get_ylim())\n",
    "ax1.set_ylim(np.array([-0.04, 0])+ax1.get_ylim())\n",
    "#ax.set_xlim(-1,5)\n",
    "plt.gca().yaxis.set_major_formatter(FuncFormatter(lambda y, _: '{:.0%}'.format(y)))\n",
    "\n",
    "plt.savefig(\"plots/cross-network-taxi-on-taxi.pdf\", bbox_inches='tight')"
   ]
  },
  {
   "cell_type": "code",
   "execution_count": null,
   "metadata": {},
   "outputs": [],
   "source": [
    "change_of_month = taxi_year_delay.groupby(\"Month\")['Average Delay'].mean()\n",
    "#month_change = change_of_month.reset_index()\n",
    "#month_change = month_change.pivot(index='Month',columns='Year',values='Average Delay')\n",
    "change_of_month.reset_index().to_csv(\"data/month-delay-taxi.csv\")\n",
    "#change_of_month.plot(kind='line')\n",
    "#%%\n",
    "change_of_month_subway = subway_year_delay[((subway_year_delay['Year']!=2012) & (subway_year_delay['Year']!=2017))].groupby(\"Month\")['Average Delay'].mean()\n",
    "#month_change = change_of_month.reset_index()\n",
    "#month_change = month_change.pivot(index='Month',columns='Year',values='Average Delay')\n",
    "change_of_month_subway.reset_index().to_csv(\"data/month-delay-subway.csv\")\n",
    "change_of_month_subway.plot(kind='line')"
   ]
  }
 ],
 "metadata": {
  "kernelspec": {
   "display_name": "Python 2",
   "language": "python",
   "name": "python2"
  },
  "language_info": {
   "codemirror_mode": {
    "name": "ipython",
    "version": 2
   },
   "file_extension": ".py",
   "mimetype": "text/x-python",
   "name": "python",
   "nbconvert_exporter": "python",
   "pygments_lexer": "ipython2",
   "version": "2.7.13"
  }
 },
 "nbformat": 4,
 "nbformat_minor": 2
}
